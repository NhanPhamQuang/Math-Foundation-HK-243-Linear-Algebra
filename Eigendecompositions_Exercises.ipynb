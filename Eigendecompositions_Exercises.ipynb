{
  "nbformat": 4,
  "nbformat_minor": 0,
  "metadata": {
    "colab": {
      "provenance": [],
      "authorship_tag": "ABX9TyO2hhjJuK0f+46JuIpFo7Dm",
      "include_colab_link": true
    },
    "kernelspec": {
      "name": "python3",
      "display_name": "Python 3"
    },
    "language_info": {
      "name": "python"
    }
  },
  "cells": [
    {
      "cell_type": "markdown",
      "metadata": {
        "id": "view-in-github",
        "colab_type": "text"
      },
      "source": [
        "<a href=\"https://colab.research.google.com/github/NhanPhamQuang/Math-Foundation-HK-243-Linear-Algebra/blob/main/Eigendecompositions_Exercises.ipynb\" target=\"_parent\"><img src=\"https://colab.research.google.com/assets/colab-badge.svg\" alt=\"Open In Colab\"/></a>"
      ]
    },
    {
      "cell_type": "code",
      "source": [
        "import torch"
      ],
      "metadata": {
        "id": "L2CjzqTwv0nN"
      },
      "execution_count": 2,
      "outputs": []
    },
    {
      "cell_type": "markdown",
      "source": [
        "1. What are the eigenvalues and eigenvectors of\n",
        "$$\n",
        "\\mathbf{A} = \\begin{bmatrix}\n",
        "2 & 1 \\\\\n",
        "1 & 2\n",
        "\\end{bmatrix}?\n",
        "$$"
      ],
      "metadata": {
        "id": "rmApF5fBvzcO"
      }
    },
    {
      "cell_type": "code",
      "execution_count": 5,
      "metadata": {
        "colab": {
          "base_uri": "https://localhost:8080/"
        },
        "id": "wpFIiimjvlnd",
        "outputId": "5df79509-f1ee-41f2-b128-769e0a4a8adb"
      },
      "outputs": [
        {
          "output_type": "stream",
          "name": "stdout",
          "text": [
            "Eigenvalues: tensor([3., 1.])\n",
            "Eigenvectors:\n",
            " tensor([[ 0.7071, -0.7071],\n",
            "        [ 0.7071,  0.7071]])\n"
          ]
        }
      ],
      "source": [
        "# Define the matrix A\n",
        "A = torch.tensor([[2.0, 1.0], [1.0, 2.0]])\n",
        "\n",
        "# Compute eigenvalues and eigenvectors\n",
        "eigenvalues, eigenvectors = torch.linalg.eig(A)\n",
        "\n",
        "# Convert to real numbers (since A is symmetric, eigenvalues/eigenvectors are real)\n",
        "eigenvalues = eigenvalues.real\n",
        "eigenvectors = eigenvectors.real\n",
        "\n",
        "# Print results\n",
        "print(\"Eigenvalues:\", eigenvalues)\n",
        "print(\"Eigenvectors:\\n\", eigenvectors)"
      ]
    },
    {
      "cell_type": "markdown",
      "source": [
        "2.  What are the eigenvalues and eigenvectors of the following matrix, and what is strange about this example compared to the previous one?\n",
        "$$\n",
        "\\mathbf{A} = \\begin{bmatrix}\n",
        "2 & 1 \\\\\n",
        "0 & 2\n",
        "\\end{bmatrix}.\n",
        "$$"
      ],
      "metadata": {
        "id": "PlJvpIX3yFNt"
      }
    },
    {
      "cell_type": "code",
      "source": [
        "# Define the matrix A\n",
        "A = torch.tensor([[2.0, 1.0], [0.0, 2.0]])\n",
        "\n",
        "# Compute eigenvalues and eigenvectors\n",
        "eigenvalues, eigenvectors = torch.linalg.eig(A)\n",
        "\n",
        "# Convert to real numbers if imaginary parts are negligible\n",
        "eigenvalues = eigenvalues.real\n",
        "eigenvectors = eigenvectors.real\n",
        "\n",
        "# Print results\n",
        "print(\"Eigenvalues:\", eigenvalues)\n",
        "print(\"Eigenvectors:\\n\", eigenvectors)"
      ],
      "metadata": {
        "colab": {
          "base_uri": "https://localhost:8080/"
        },
        "id": "Tu_rW7_JyHLc",
        "outputId": "e370ae50-2306-4fc4-8543-91ea2ac52f25"
      },
      "execution_count": 6,
      "outputs": [
        {
          "output_type": "stream",
          "name": "stdout",
          "text": [
            "Eigenvalues: tensor([2., 2.])\n",
            "Eigenvectors:\n",
            " tensor([[ 1.0000e+00, -1.0000e+00],\n",
            "        [ 0.0000e+00,  2.3842e-07]])\n"
          ]
        }
      ]
    },
    {
      "cell_type": "markdown",
      "source": [
        "3. Without computing the eigenvalues, is it possible that the smallest eigenvalue of the following matrix is less that $0.5$? *Note*: this problem can be done in your head.\n",
        "$$\n",
        "\\mathbf{A} = \\begin{bmatrix}\n",
        "3.0 & 0.1 & 0.3 & 1.0 \\\\\n",
        "0.1 & 1.0 & 0.1 & 0.2 \\\\\n",
        "0.3 & 0.1 & 5.0 & 0.0 \\\\\n",
        "1.0 & 0.2 & 0.0 & 1.8\n",
        "\\end{bmatrix}.\n",
        "$$"
      ],
      "metadata": {
        "id": "vliIs4LqzpEX"
      }
    },
    {
      "cell_type": "code",
      "source": [
        "# Define the matrix A\n",
        "A = torch.tensor([\n",
        "    [3.0, 0.1, 0.3, 1.0],\n",
        "    [0.1, 1.0, 0.1, 0.2],\n",
        "    [0.3, 0.1, 5.0, 0.0],\n",
        "    [1.0, 0.2, 0.0, 1.8]\n",
        "])\n",
        "\n",
        "# Since A's diagonal dominates and is positive, use Gershgorin discs to estimate eigenvalues\n",
        "diagonal = torch.diag(A)\n",
        "off_diagonal_sums = torch.sum(torch.abs(A), dim=1) - torch.abs(diagonal)\n",
        "radii = off_diagonal_sums\n",
        "\n",
        "# Compute the lower bound of Gershgorin discs\n",
        "lower_bounds = diagonal - radii\n",
        "\n",
        "# Check if the smallest lower bound is less than 0.5\n",
        "smallest_lower_bound = torch.min(lower_bounds)\n",
        "is_less_than_0_5 = smallest_lower_bound < 0.5\n",
        "\n",
        "print(f\"Smallest Gershgorin disc lower bound: {smallest_lower_bound}\")\n",
        "print(f\"Is the smallest eigenvalue possibly less than 0.5? {is_less_than_0_5}\")"
      ],
      "metadata": {
        "colab": {
          "base_uri": "https://localhost:8080/"
        },
        "id": "YPyBQU-VzoNP",
        "outputId": "3f00625e-1807-4838-8dc7-2ce8f26cb961"
      },
      "execution_count": 8,
      "outputs": [
        {
          "output_type": "stream",
          "name": "stdout",
          "text": [
            "Smallest Gershgorin disc lower bound: 0.5999999046325684\n",
            "Is the smallest eigenvalue possibly less than 0.5? False\n"
          ]
        }
      ]
    }
  ]
}