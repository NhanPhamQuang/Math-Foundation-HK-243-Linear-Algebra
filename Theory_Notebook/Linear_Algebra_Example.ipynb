{
  "nbformat": 4,
  "nbformat_minor": 0,
  "metadata": {
    "colab": {
      "provenance": []
    },
    "kernelspec": {
      "name": "python3",
      "display_name": "Python 3"
    },
    "language_info": {
      "name": "python"
    }
  },
  "cells": [
    {
      "cell_type": "code",
      "source": [
        "import torch"
      ],
      "metadata": {
        "id": "CbwSZOL2X6RZ"
      },
      "execution_count": 7,
      "outputs": []
    },
    {
      "cell_type": "code",
      "execution_count": 8,
      "metadata": {
        "colab": {
          "base_uri": "https://localhost:8080/"
        },
        "id": "le2UQQEAXnHa",
        "outputId": "426f5caf-c14f-42bd-e9a7-807cab22e411"
      },
      "outputs": [
        {
          "output_type": "stream",
          "name": "stdout",
          "text": [
            "Weight: 70.0 kg\n",
            "Height: 1.75 m\n",
            "BMI: 22.86\n"
          ]
        }
      ],
      "source": [
        "# 1. Scalars\n",
        "# Example: Calculate Body Mass Index (BMI)\n",
        "# Compute BMI using weight and height as scalars.\n",
        "\n",
        "# Scalars for weight (kg) and height (m)\n",
        "weight = torch.tensor(70.0)\n",
        "height = torch.tensor(1.75)\n",
        "\n",
        "# Calculate BMI: weight / (height^2)\n",
        "bmi = weight / (height ** 2)\n",
        "\n",
        "print(f\"Weight: {weight.item()} kg\")\n",
        "print(f\"Height: {height.item()} m\")\n",
        "print(f\"BMI: {bmi.item():.2f}\")"
      ]
    },
    {
      "cell_type": "code",
      "source": [
        "# 2. Vectors\n",
        "# Example: Calculate Total Calories Burned\n",
        "# Represent daily exercise durations as a vector and compute total calories burned.\n",
        "\n",
        "# Vector of exercise durations (hours) and calories per hour\n",
        "durations = torch.tensor([0.5, 1.0, 0.75])  # [running, cycling, swimming]\n",
        "calories_per_hour = torch.tensor([600.0, 400.0, 500.0])\n",
        "\n",
        "# Total calories: elementwise multiplication and sum\n",
        "total_calories = (durations * calories_per_hour).sum()\n",
        "\n",
        "print(f\"Exercise Durations: {durations} hours\")\n",
        "print(f\"Calories per Hour: {calories_per_hour} kcal/hour\")\n",
        "print(f\"Total Calories Burned: {total_calories.item():.2f} kcal\")"
      ],
      "metadata": {
        "colab": {
          "base_uri": "https://localhost:8080/"
        },
        "id": "VpwPvx1VX_Wg",
        "outputId": "7385d32c-a5cd-4116-c6b0-eb26f91a92b1"
      },
      "execution_count": 9,
      "outputs": [
        {
          "output_type": "stream",
          "name": "stdout",
          "text": [
            "Exercise Durations: tensor([0.5000, 1.0000, 0.7500]) hours\n",
            "Calories per Hour: tensor([600., 400., 500.]) kcal/hour\n",
            "Total Calories Burned: 1075.00 kcal\n"
          ]
        }
      ]
    },
    {
      "cell_type": "code",
      "source": [
        "# 3. Matrices\n",
        "# Example: Sales Data Analysis\n",
        "# Represent monthly sales data for products and compute total sales per product.\n",
        "\n",
        "# Matrix: rows (products), columns (months)\n",
        "sales = torch.tensor([[100.0, 120.0, 110.0],  # Product A\n",
        "                      [80.0, 90.0, 85.0],    # Product B\n",
        "                      [150.0, 130.0, 140.0]]) # Product C\n",
        "\n",
        "# Total sales per product (sum along axis 1)\n",
        "total_sales = sales.sum(axis=1)\n",
        "\n",
        "print(f\"Sales Matrix:\\n{sales}\")\n",
        "print(f\"Total Sales per Product: {total_sales}\")"
      ],
      "metadata": {
        "colab": {
          "base_uri": "https://localhost:8080/"
        },
        "id": "Olaszv3ZYQpL",
        "outputId": "19d2b8af-b143-4a23-f58c-7eb66ee47d78"
      },
      "execution_count": 10,
      "outputs": [
        {
          "output_type": "stream",
          "name": "stdout",
          "text": [
            "Sales Matrix:\n",
            "tensor([[100., 120., 110.],\n",
            "        [ 80.,  90.,  85.],\n",
            "        [150., 130., 140.]])\n",
            "Total Sales per Product: tensor([330., 255., 420.])\n"
          ]
        }
      ]
    },
    {
      "cell_type": "code",
      "source": [
        "# 4. Tensors\n",
        "# Example: Batch of Grayscale Images\n",
        "# Create a 3rd-order tensor for a batch of grayscale images.\n",
        "\n",
        "# 3rd-order tensor: [batch, height, width]\n",
        "images = torch.ones(2, 3, 3) * torch.tensor([[[1.0]], [[2.0]]])  # Two 3x3 images\n",
        "\n",
        "# Access a pixel\n",
        "pixel = images[0, 1, 1]\n",
        "\n",
        "print(f\"Grayscale Images:\\n{images}\")\n",
        "print(f\"Pixel (1,1) in first image: {pixel.item()}\")\n",
        "print(f\"Tensor Shape: {images.shape}\")"
      ],
      "metadata": {
        "colab": {
          "base_uri": "https://localhost:8080/"
        },
        "id": "21yegutpYWki",
        "outputId": "a1a7217f-5459-4594-a1fe-f953fe099c6e"
      },
      "execution_count": 11,
      "outputs": [
        {
          "output_type": "stream",
          "name": "stdout",
          "text": [
            "Grayscale Images:\n",
            "tensor([[[1., 1., 1.],\n",
            "         [1., 1., 1.],\n",
            "         [1., 1., 1.]],\n",
            "\n",
            "        [[2., 2., 2.],\n",
            "         [2., 2., 2.],\n",
            "         [2., 2., 2.]]])\n",
            "Pixel (1,1) in first image: 1.0\n",
            "Tensor Shape: torch.Size([2, 3, 3])\n"
          ]
        }
      ]
    },
    {
      "cell_type": "code",
      "source": [
        "# 5. Basic Properties of Tensor Arithmetic\n",
        "# Example: Image Contrast Adjustment\n",
        "# Adjust the contrast of an image by scaling pixel values.\n",
        "\n",
        "# Grayscale image (2D tensor)\n",
        "image = torch.tensor([[100.0, 150.0], [200.0, 250.0]])\n",
        "\n",
        "# Adjust contrast by scaling\n",
        "contrast_factor = 1.2\n",
        "adjusted_image = image * contrast_factor\n",
        "\n",
        "print(f\"Original Image:\\n{image}\")\n",
        "print(f\"Contrast-Adjusted Image:\\n{adjusted_image}\")"
      ],
      "metadata": {
        "colab": {
          "base_uri": "https://localhost:8080/"
        },
        "id": "JEBJ7bTKYvze",
        "outputId": "e0f00699-6cc7-4afe-dfb3-73983e643d30"
      },
      "execution_count": 13,
      "outputs": [
        {
          "output_type": "stream",
          "name": "stdout",
          "text": [
            "Original Image:\n",
            "tensor([[100., 150.],\n",
            "        [200., 250.]])\n",
            "Contrast-Adjusted Image:\n",
            "tensor([[120.0000, 180.0000],\n",
            "        [240.0000, 300.0000]])\n"
          ]
        }
      ]
    },
    {
      "cell_type": "code",
      "source": [
        "# 6. Reduction\n",
        "# Example: Average Exam Scores\n",
        "# Compute average scores across subjects for students.\n",
        "\n",
        "# Matrix: rows (students), columns (subjects)\n",
        "scores = torch.tensor([[85.0, 90.0, 88.0],\n",
        "                       [78.0, 82.0, 80.0]])\n",
        "\n",
        "# Average score per student (axis 1)\n",
        "avg_scores = scores.mean(axis=1)\n",
        "\n",
        "print(f\"Scores Matrix:\\n{scores}\")\n",
        "print(f\"Average Scores per Student: {avg_scores}\")"
      ],
      "metadata": {
        "colab": {
          "base_uri": "https://localhost:8080/"
        },
        "id": "5xzExl5aY6zv",
        "outputId": "369c6654-f2a0-480c-bdbc-6befdac6de80"
      },
      "execution_count": 14,
      "outputs": [
        {
          "output_type": "stream",
          "name": "stdout",
          "text": [
            "Scores Matrix:\n",
            "tensor([[85., 90., 88.],\n",
            "        [78., 82., 80.]])\n",
            "Average Scores per Student: tensor([87.6667, 80.0000])\n"
          ]
        }
      ]
    },
    {
      "cell_type": "code",
      "source": [
        "# 7. Non-Reduction Sum\n",
        "# Example: Normalize Sales Data\n",
        "# Normalize sales so each product’s monthly sales sum to 1.\n",
        "\n",
        "# Sales matrix: rows (products), columns (months)\n",
        "sales = torch.tensor([[100.0, 120.0, 110.0],\n",
        "                      [80.0, 90.0, 85.0]])\n",
        "\n",
        "# Non-reduction sum along axis 1\n",
        "sum_sales = sales.sum(axis=1, keepdims=True)\n",
        "\n",
        "# Normalize\n",
        "normalized_sales = sales / sum_sales\n",
        "\n",
        "print(f\"Sales Matrix:\\n{sales}\")\n",
        "print(f\"Sum per Product:\\n{sum_sales}\")\n",
        "print(f\"Normalized Sales:\\n{normalized_sales}\")"
      ],
      "metadata": {
        "colab": {
          "base_uri": "https://localhost:8080/"
        },
        "id": "FjEZ70XtZEQA",
        "outputId": "1fdd0de7-2444-43fe-c7e7-8eb03f7fd356"
      },
      "execution_count": 15,
      "outputs": [
        {
          "output_type": "stream",
          "name": "stdout",
          "text": [
            "Sales Matrix:\n",
            "tensor([[100., 120., 110.],\n",
            "        [ 80.,  90.,  85.]])\n",
            "Sum per Product:\n",
            "tensor([[330.],\n",
            "        [255.]])\n",
            "Normalized Sales:\n",
            "tensor([[0.3030, 0.3636, 0.3333],\n",
            "        [0.3137, 0.3529, 0.3333]])\n"
          ]
        }
      ]
    },
    {
      "cell_type": "code",
      "source": [
        "# 8. Dot Products\n",
        "# Example: Weighted Exam Score\n",
        "# Calculate a student’s weighted exam score.\n",
        "\n",
        "# Scores and weights\n",
        "scores = torch.tensor([85.0, 90.0, 88.0])\n",
        "weights = torch.tensor([0.4, 0.3, 0.3])\n",
        "\n",
        "# Dot product\n",
        "weighted_score = torch.dot(scores, weights)\n",
        "\n",
        "print(f\"Scores: {scores}\")\n",
        "print(f\"Weights: {weights}\")\n",
        "print(f\"Weighted Score: {weighted_score.item():.2f}\")"
      ],
      "metadata": {
        "colab": {
          "base_uri": "https://localhost:8080/"
        },
        "id": "5YcfWJZ8ZMUw",
        "outputId": "0934c0e6-a0aa-43c8-c483-d267fece8901"
      },
      "execution_count": 16,
      "outputs": [
        {
          "output_type": "stream",
          "name": "stdout",
          "text": [
            "Scores: tensor([85., 90., 88.])\n",
            "Weights: tensor([0.4000, 0.3000, 0.3000])\n",
            "Weighted Score: 87.40\n"
          ]
        }
      ]
    },
    {
      "cell_type": "code",
      "source": [
        "# 9. Matrix–Vector Products\n",
        "# Example: Neural Network Layer\n",
        "# Simulate a neural network layer’s output.\n",
        "\n",
        "# Weight matrix and input vector\n",
        "weights = torch.tensor([[0.5, 0.3], [0.2, 0.4]])  # 2 neurons, 2 inputs\n",
        "inputs = torch.tensor([1.0, 2.0])\n",
        "\n",
        "# Compute output\n",
        "output = torch.mv(weights, inputs)\n",
        "\n",
        "print(f\"Weights:\\n{weights}\")\n",
        "print(f\"Inputs: {inputs}\")\n",
        "print(f\"Layer Output: {output}\")"
      ],
      "metadata": {
        "colab": {
          "base_uri": "https://localhost:8080/"
        },
        "id": "u3Q-rI0jZWAK",
        "outputId": "b968be07-16a2-440e-acf4-993137714888"
      },
      "execution_count": 17,
      "outputs": [
        {
          "output_type": "stream",
          "name": "stdout",
          "text": [
            "Weights:\n",
            "tensor([[0.5000, 0.3000],\n",
            "        [0.2000, 0.4000]])\n",
            "Inputs: tensor([1., 2.])\n",
            "Layer Output: tensor([1.1000, 1.0000])\n"
          ]
        }
      ]
    },
    {
      "cell_type": "code",
      "source": [
        "# 10. Matrix–Matrix Multiplication\n",
        "# Example: Neural Network Layer Composition\n",
        "# Compose two neural network layers.\n",
        "\n",
        "# Two layer weight matrices\n",
        "layer1 = torch.tensor([[0.5, 0.3], [0.2, 0.4]])\n",
        "layer2 = torch.tensor([[0.1, 0.6], [0.7, 0.2]])\n",
        "\n",
        "# Compose layers\n",
        "composition = torch.mm(layer1, layer2)\n",
        "\n",
        "print(f\"Layer 1 Weights:\\n{layer1}\")\n",
        "print(f\"Layer 2 Weights:\\n{layer2}\")\n",
        "print(f\"Composed Weights:\\n{composition}\")"
      ],
      "metadata": {
        "colab": {
          "base_uri": "https://localhost:8080/"
        },
        "id": "4z5b0h57Zc16",
        "outputId": "70638a4b-e0b1-4748-b02d-ef64a2b5022a"
      },
      "execution_count": 18,
      "outputs": [
        {
          "output_type": "stream",
          "name": "stdout",
          "text": [
            "Layer 1 Weights:\n",
            "tensor([[0.5000, 0.3000],\n",
            "        [0.2000, 0.4000]])\n",
            "Layer 2 Weights:\n",
            "tensor([[0.1000, 0.6000],\n",
            "        [0.7000, 0.2000]])\n",
            "Composed Weights:\n",
            "tensor([[0.2600, 0.3600],\n",
            "        [0.3000, 0.2000]])\n"
          ]
        }
      ]
    },
    {
      "cell_type": "code",
      "source": [
        "# 11. Norms\n",
        "# Example 1: Error in Predictions\n",
        "# Compute L1 and L2 norms of prediction errors.\n",
        "\n",
        "# Predicted and actual values\n",
        "predicted = torch.tensor([2.5, 0.0, 2.1])\n",
        "actual = torch.tensor([3.0, -0.5, 2.0])\n",
        "\n",
        "# Error vector\n",
        "error = predicted - actual\n",
        "\n",
        "# L1 and L2 norms\n",
        "l1_norm = torch.abs(error).sum()\n",
        "l2_norm = torch.norm(error)\n",
        "\n",
        "print(f\"Predicted: {predicted}\")\n",
        "print(f\"Actual: {actual}\")\n",
        "print(f\"Error: {error}\")\n",
        "print(f\"L1 Norm: {l1_norm.item():.2f}\")\n",
        "print(f\"L2 Norm: {l2_norm.item():.2f}\")"
      ],
      "metadata": {
        "colab": {
          "base_uri": "https://localhost:8080/"
        },
        "id": "g86lOJPlZkej",
        "outputId": "d54f5380-c8cf-4185-facb-7e5ef06c45ae"
      },
      "execution_count": 19,
      "outputs": [
        {
          "output_type": "stream",
          "name": "stdout",
          "text": [
            "Predicted: tensor([2.5000, 0.0000, 2.1000])\n",
            "Actual: tensor([ 3.0000, -0.5000,  2.0000])\n",
            "Error: tensor([-0.5000,  0.5000,  0.1000])\n",
            "L1 Norm: 1.10\n",
            "L2 Norm: 0.71\n"
          ]
        }
      ]
    },
    {
      "cell_type": "code",
      "source": [
        "# Example 2: Matrix Regularization\n",
        "# Compute the Frobenius norm of a weight matrix for regularization.\n",
        "\n",
        "# Weight matrix\n",
        "weights = torch.tensor([[0.5, 0.3], [0.2, 0.4]])\n",
        "\n",
        "# Frobenius norm\n",
        "frobenius_norm = torch.norm(weights)\n",
        "\n",
        "print(f\"Weights:\\n{weights}\")\n",
        "print(f\"Frobenius Norm: {frobenius_norm.item():.2f}\")"
      ],
      "metadata": {
        "colab": {
          "base_uri": "https://localhost:8080/"
        },
        "id": "nwVlyfxBZ0vl",
        "outputId": "49903747-b7c5-4710-c96e-35bbb9972b86"
      },
      "execution_count": 20,
      "outputs": [
        {
          "output_type": "stream",
          "name": "stdout",
          "text": [
            "Weights:\n",
            "tensor([[0.5000, 0.3000],\n",
            "        [0.2000, 0.4000]])\n",
            "Frobenius Norm: 0.73\n"
          ]
        }
      ]
    }
  ]
}