{
  "nbformat": 4,
  "nbformat_minor": 0,
  "metadata": {
    "colab": {
      "provenance": []
    },
    "kernelspec": {
      "name": "python3",
      "display_name": "Python 3"
    },
    "language_info": {
      "name": "python"
    }
  },
  "cells": [
    {
      "cell_type": "code",
      "source": [
        "import torch"
      ],
      "metadata": {
        "id": "wB-a9UqtptRh"
      },
      "execution_count": 12,
      "outputs": []
    },
    {
      "cell_type": "code",
      "execution_count": 13,
      "metadata": {
        "colab": {
          "base_uri": "https://localhost:8080/"
        },
        "id": "scHOFbwyozgi",
        "outputId": "f88bac66-8bb7-4a05-f0b2-f4356f1b2b2d"
      },
      "outputs": [
        {
          "output_type": "stream",
          "name": "stdout",
          "text": [
            "Eigenvalues: tensor([1.0000, 4.0000])\n",
            "Eigenvectors (columns):\n",
            "tensor([[-0.7071, -0.4472],\n",
            "        [ 0.7071, -0.8944]])\n",
            "\n",
            "Verification for first eigenvalue/eigenvector:\n",
            "A * v: tensor([-0.7071,  0.7071])\n",
            "lambda * v: tensor([-0.7071,  0.7071])\n"
          ]
        }
      ],
      "source": [
        "# 1. Finding Eigenvalues\n",
        "\n",
        "# Define the matrix A (must be float type)\n",
        "A = torch.tensor([[2., 1.], [2., 3.]])\n",
        "\n",
        "# Compute eigenvalues and eigenvectors\n",
        "eigenvalues, eigenvectors = torch.linalg.eig(A)\n",
        "\n",
        "# Convert to real values if imaginary part is negligible (for real matrices)\n",
        "eigenvalues = eigenvalues.real\n",
        "eigenvectors = eigenvectors.real\n",
        "\n",
        "print(\"Eigenvalues:\", eigenvalues)\n",
        "print(\"Eigenvectors (columns):\")\n",
        "print(eigenvectors)\n",
        "\n",
        "# Verification for first eigenvalue/eigenvector pair\n",
        "v = eigenvectors[:, 0]  # First eigenvector\n",
        "lambda_ = eigenvalues[0]  # First eigenvalue\n",
        "print(\"\\nVerification for first eigenvalue/eigenvector:\")\n",
        "print(\"A * v:\", A @ v)\n",
        "print(\"lambda * v:\", lambda_ * v)"
      ]
    },
    {
      "cell_type": "code",
      "source": [
        "# 2. Decomposing Matrices\n",
        "\n",
        "# Define the matrix A (must be float type)\n",
        "A = torch.tensor([[2., 4.], [2., 9.]])\n",
        "\n",
        "# Compute eigenvalues and eigenvectors\n",
        "eigenvalues, eigenvectors = torch.linalg.eig(A)\n",
        "\n",
        "# Convert complex results to real (since A is real and symmetric)\n",
        "eigenvalues = eigenvalues.real\n",
        "eigenvectors = eigenvectors.real\n",
        "\n",
        "# Form W (eigenvectors as columns)\n",
        "W = eigenvectors\n",
        "\n",
        "# Form Sigma (diagonal matrix of eigenvalues)\n",
        "Sigma = torch.diag(eigenvalues)\n",
        "\n",
        "# Compute W inverse\n",
        "W_inv = torch.linalg.inv(W)\n",
        "\n",
        "# Reconstruct A = W @ Sigma @ W_inv\n",
        "A_reconstructed = W @ Sigma @ W_inv\n",
        "\n",
        "print(\"Original A:\")\n",
        "print(A)\n",
        "print(\"Reconstructed A (W * Sigma * W^-1):\")\n",
        "print(A_reconstructed)"
      ],
      "metadata": {
        "colab": {
          "base_uri": "https://localhost:8080/"
        },
        "id": "-6X8tP0fp1W5",
        "outputId": "35ab63b9-2046-400f-f58b-5fcca6c89a95"
      },
      "execution_count": 14,
      "outputs": [
        {
          "output_type": "stream",
          "name": "stdout",
          "text": [
            "Original A:\n",
            "tensor([[2., 4.],\n",
            "        [2., 9.]])\n",
            "Reconstructed A (W * Sigma * W^-1):\n",
            "tensor([[2., 4.],\n",
            "        [2., 9.]])\n"
          ]
        }
      ]
    },
    {
      "cell_type": "code",
      "source": [
        "# 3. Operations on Eigendecompositions\n",
        "\n",
        "# Define the matrix A (must be float type)\n",
        "A = torch.tensor([[2., 5.], [3., 7.]])\n",
        "\n",
        "# Compute eigenvalues and eigenvectors\n",
        "eigenvalues, eigenvectors = torch.linalg.eig(A)\n",
        "\n",
        "# Convert complex results to real (since A is real and symmetric)\n",
        "eigenvalues = eigenvalues.real\n",
        "eigenvectors = eigenvectors.real\n",
        "\n",
        "# Form W (eigenvectors as columns)\n",
        "W = eigenvectors\n",
        "\n",
        "# Form Sigma (diagonal matrix of eigenvalues)\n",
        "Sigma = torch.diag(eigenvalues)\n",
        "\n",
        "# Compute W inverse\n",
        "W_inv = torch.linalg.inv(W)\n",
        "\n",
        "# Compute A^5 = W * Sigma^5 * W^-1\n",
        "Sigma_5 = torch.diag(eigenvalues**5)\n",
        "A_5 = W @ Sigma_5 @ W_inv\n",
        "print(\"A^5 using eigendecomposition:\")\n",
        "print(A_5)\n",
        "\n",
        "# Compute A^-1 = W * Sigma^-1 * W^-1\n",
        "Sigma_inv = torch.diag(1 / eigenvalues)  # Inverse of diagonal matrix\n",
        "A_inv = W @ Sigma_inv @ W_inv\n",
        "print(\"\\nA^-1 using eigendecomposition:\")\n",
        "print(A_inv)\n",
        "\n",
        "# Verify with direct computation\n",
        "print(\"\\nVerification A^5 (direct):\")\n",
        "print(torch.linalg.matrix_power(A, 5))\n",
        "print(\"Verification A^-1 (direct):\")\n",
        "print(torch.linalg.inv(A))"
      ],
      "metadata": {
        "colab": {
          "base_uri": "https://localhost:8080/"
        },
        "id": "eYIoSzh5rXZM",
        "outputId": "cedf5037-f785-4886-9fc8-6a3a0a1faf20"
      },
      "execution_count": 15,
      "outputs": [
        {
          "output_type": "stream",
          "name": "stdout",
          "text": [
            "A^5 using eigendecomposition:\n",
            "tensor([[14356.9961, 34024.9922],\n",
            "        [20414.9941, 48381.9883]])\n",
            "\n",
            "A^-1 using eigendecomposition:\n",
            "tensor([[-7.0000,  5.0000],\n",
            "        [ 3.0000, -2.0000]])\n",
            "\n",
            "Verification A^5 (direct):\n",
            "tensor([[14357., 34025.],\n",
            "        [20415., 48382.]])\n",
            "Verification A^-1 (direct):\n",
            "tensor([[-7.0000,  5.0000],\n",
            "        [ 3.0000, -2.0000]])\n"
          ]
        }
      ]
    },
    {
      "cell_type": "code",
      "source": [
        "# 4. Eigendecompositions of Symmetric Matrices\n",
        "\n",
        "# Define symmetric matrix A (must be float type)\n",
        "A = torch.tensor([[5., 2.], [2., 5.]])\n",
        "\n",
        "# Compute eigenvalues and eigenvectors\n",
        "eigenvalues, eigenvectors = torch.linalg.eigh(A)  # Using eigh() for symmetric matrices\n",
        "\n",
        "# Form W (orthogonal matrix of eigenvectors)\n",
        "W = eigenvectors\n",
        "\n",
        "# Form Sigma (diagonal matrix of eigenvalues)\n",
        "Sigma = torch.diag(eigenvalues)\n",
        "\n",
        "# Verify orthogonality: W^T @ W = I\n",
        "print(\"W^T @ W (should be identity):\")\n",
        "print(W.T @ W)\n",
        "\n",
        "# Decompose A = W @ Sigma @ W^T\n",
        "A_reconstructed = W @ Sigma @ W.T\n",
        "print(\"\\nOriginal A:\")\n",
        "print(A)\n",
        "print(\"Reconstructed A (W @ Sigma @ W^T):\")\n",
        "print(A_reconstructed)"
      ],
      "metadata": {
        "colab": {
          "base_uri": "https://localhost:8080/"
        },
        "id": "p_GliYBSsptV",
        "outputId": "ff7bcdfb-fe61-4ed6-9c33-c8d0f8ffaac7"
      },
      "execution_count": 16,
      "outputs": [
        {
          "output_type": "stream",
          "name": "stdout",
          "text": [
            "W^T @ W (should be identity):\n",
            "tensor([[1.0000, 0.0000],\n",
            "        [0.0000, 1.0000]])\n",
            "\n",
            "Original A:\n",
            "tensor([[5., 2.],\n",
            "        [2., 5.]])\n",
            "Reconstructed A (W @ Sigma @ W^T):\n",
            "tensor([[5.0000, 2.0000],\n",
            "        [2.0000, 5.0000]])\n"
          ]
        }
      ]
    },
    {
      "cell_type": "code",
      "source": [
        "# 5. Gershgorin Circle Theorem\n",
        "\n",
        "import torch\n",
        "import matplotlib.pyplot as plt\n",
        "\n",
        "# Define the matrix A\n",
        "A = torch.tensor([[2.0, 0.3, 0.2, 0.1],\n",
        "                 [0.2, 12.0, 0.2, 0.3],\n",
        "                 [0.3, 0.2, 25.0, 0.5],\n",
        "                 [0.4, 0.3, 0.5, 19.0]])\n",
        "\n",
        "# Compute Gershgorin radii\n",
        "n = A.shape[0]\n",
        "centers = torch.diag(A)  # Diagonal elements\n",
        "radii = torch.sum(torch.abs(A), dim=1) - torch.abs(centers)  # Sum of off-diagonal absolute values\n",
        "\n",
        "# Print Gershgorin discs\n",
        "print(\"Gershgorin discs:\")\n",
        "for i in range(n):\n",
        "    print(f\"Disc {i+1}: center = {centers[i].item()}, radius = {radii[i].item()}, \"\n",
        "          f\"interval = [{centers[i].item() - radii[i].item()}, {centers[i].item() + radii[i].item()}]\")\n",
        "\n",
        "# Compute actual eigenvalues\n",
        "eigenvalues = torch.linalg.eigvals(A)\n",
        "print(\"\\nActual eigenvalues:\", eigenvalues.real)\n",
        "\n",
        "# Visualize Gershgorin discs\n",
        "plt.figure(figsize=(10, 2))\n",
        "for i in range(n):\n",
        "    plt.plot([centers[i].item() - radii[i].item(), centers[i].item() + radii[i].item()],\n",
        "             [i, i], 'b-', linewidth=2)\n",
        "    plt.plot(centers[i].item(), i, 'bo')\n",
        "\n",
        "for ev in eigenvalues.real:\n",
        "    plt.plot(ev.item(), 0, 'r*', markersize=15,\n",
        "             label='Eigenvalues' if ev == eigenvalues.real[0] else \"\")\n",
        "\n",
        "plt.yticks([])\n",
        "plt.xlabel(\"Real Axis\")\n",
        "plt.title(\"Gershgorin Discs and Eigenvalues\")\n",
        "plt.legend()\n",
        "plt.grid(True)\n",
        "plt.show()"
      ],
      "metadata": {
        "colab": {
          "base_uri": "https://localhost:8080/",
          "height": 378
        },
        "id": "lXEYohh3s9Ff",
        "outputId": "328b1be2-9b1c-4060-d7e6-743bf8b94899"
      },
      "execution_count": 17,
      "outputs": [
        {
          "output_type": "stream",
          "name": "stdout",
          "text": [
            "Gershgorin discs:\n",
            "Disc 1: center = 2.0, radius = 0.5999999046325684, interval = [1.4000000953674316, 2.5999999046325684]\n",
            "Disc 2: center = 12.0, radius = 0.6999998092651367, interval = [11.300000190734863, 12.699999809265137]\n",
            "Disc 3: center = 25.0, radius = 1.0, interval = [24.0, 26.0]\n",
            "Disc 4: center = 19.0, radius = 1.2000007629394531, interval = [17.799999237060547, 20.200000762939453]\n",
            "\n",
            "Actual eigenvalues: tensor([ 1.9895, 25.0483, 18.9722, 11.9900])\n"
          ]
        },
        {
          "output_type": "display_data",
          "data": {
            "text/plain": [
              "<Figure size 1000x200 with 1 Axes>"
            ],
            "image/png": "[encoded data removed]"
          },
          "metadata": {}
        }
      ]
    }
  ]
}