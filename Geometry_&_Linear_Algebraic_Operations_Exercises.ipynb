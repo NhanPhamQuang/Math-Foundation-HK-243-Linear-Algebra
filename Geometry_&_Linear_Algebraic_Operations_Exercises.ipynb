{
  "nbformat": 4,
  "nbformat_minor": 0,
  "metadata": {
    "colab": {
      "provenance": [],
      "authorship_tag": "ABX9TyMbbrT2aAHpBLY45/6VyD0x",
      "include_colab_link": true
    },
    "kernelspec": {
      "name": "python3",
      "display_name": "Python 3"
    },
    "language_info": {
      "name": "python"
    }
  },
  "cells": [
    {
      "cell_type": "markdown",
      "metadata": {
        "id": "view-in-github",
        "colab_type": "text"
      },
      "source": [
        "<a href=\"https://colab.research.google.com/github/NhanPhamQuang/Math-Foundation-HK-243-Linear-Algebra/blob/main/Geometry_%26_Linear_Algebraic_Operations_Exercises.ipynb\" target=\"_parent\"><img src=\"https://colab.research.google.com/assets/colab-badge.svg\" alt=\"Open In Colab\"/></a>"
      ]
    },
    {
      "cell_type": "code",
      "source": [
        "import torch"
      ],
      "metadata": {
        "id": "IPJdiRPjsnhf"
      },
      "execution_count": 1,
      "outputs": []
    },
    {
      "cell_type": "markdown",
      "source": [
        "1. What is the angle between\n",
        "$$\n",
        "\\vec v_1 = \\begin{bmatrix}\n",
        "1 \\\\ 0 \\\\ -1 \\\\ 2\n",
        "\\end{bmatrix}, \\qquad \\vec v_2 = \\begin{bmatrix}\n",
        "3 \\\\ 1 \\\\ 0 \\\\ 1\n",
        "\\end{bmatrix}?\n",
        "$$"
      ],
      "metadata": {
        "id": "o59XNnwqsiBn"
      }
    },
    {
      "cell_type": "code",
      "source": [
        "# Define the vectors\n",
        "v1 = torch.tensor([1.0, 0.0, -1.0, 2.0])\n",
        "v2 = torch.tensor([3.0, 1.0, 0.0, 1.0])\n",
        "\n",
        "# Compute dot product\n",
        "dot_product = torch.dot(v1, v2)\n",
        "\n",
        "# Compute magnitudes\n",
        "mag_v1 = torch.norm(v1)\n",
        "mag_v2 = torch.norm(v2)\n",
        "\n",
        "# Compute cosine of the angle\n",
        "cos_theta = dot_product / (mag_v1 * mag_v2)\n",
        "\n",
        "# Compute the angle in radians\n",
        "theta_rad = torch.acos(cos_theta)\n",
        "\n",
        "# Convert to degrees\n",
        "theta_deg = theta_rad * 180 / torch.pi\n",
        "\n",
        "print(f\"Angle between vectors (degrees): {theta_deg.item():.2f}\")"
      ],
      "metadata": {
        "colab": {
          "base_uri": "https://localhost:8080/"
        },
        "id": "78ewyFbTsjnH",
        "outputId": "bf9f212f-c8fc-4b9b-dddb-67bb0ed8a298"
      },
      "execution_count": 2,
      "outputs": [
        {
          "output_type": "stream",
          "name": "stdout",
          "text": [
            "Angle between vectors (degrees): 52.01\n"
          ]
        }
      ]
    },
    {
      "cell_type": "markdown",
      "source": [
        "2. True or false: $\\begin{bmatrix}1 & 2\\\\0&1\\end{bmatrix}$ and $\\begin{bmatrix}1 & -2\\\\0&1\\end{bmatrix}$ are inverses of one another?"
      ],
      "metadata": {
        "id": "WWmV5qqrtDoa"
      }
    },
    {
      "cell_type": "code",
      "source": [
        "# Define the matrices\n",
        "A = torch.tensor([[1.0, 2.0], [0.0, 1.0]])\n",
        "B = torch.tensor([[1.0, -2.0], [0.0, 1.0]])\n",
        "\n",
        "# Compute product A @ B\n",
        "product_AB = torch.matmul(A, B)\n",
        "\n",
        "# Compute product B @ A\n",
        "product_BA = torch.matmul(B, A)\n",
        "\n",
        "# Check if both products equal the identity matrix\n",
        "identity = torch.eye(2)\n",
        "is_inverse = torch.allclose(product_AB, identity) and torch.allclose(product_BA, identity)\n",
        "\n",
        "print(f\"Matrices are inverses: {is_inverse}\")"
      ],
      "metadata": {
        "colab": {
          "base_uri": "https://localhost:8080/"
        },
        "id": "Io04pdHNtCgy",
        "outputId": "6d32cb9e-5474-45a3-bbf8-1c1aadc140c1"
      },
      "execution_count": 3,
      "outputs": [
        {
          "output_type": "stream",
          "name": "stdout",
          "text": [
            "Matrices are inverses: True\n"
          ]
        }
      ]
    },
    {
      "cell_type": "markdown",
      "source": [
        "3. Suppose that we draw a shape in the plane with area $100\\textrm{m}^2$.  What is the area after transforming the figure by the matrix\n",
        "$$\n",
        "\\begin{bmatrix}\n",
        "2 & 3\\\\\n",
        "1 & 2\n",
        "\\end{bmatrix}.\n",
        "$$"
      ],
      "metadata": {
        "id": "DDqgxW56tH4C"
      }
    },
    {
      "cell_type": "code",
      "source": [
        "# Define the transformation matrix\n",
        "A = torch.tensor([[2.0, 3.0], [1.0, 2.0]])\n",
        "\n",
        "# Original area\n",
        "original_area = 100.0\n",
        "\n",
        "# Compute the determinant of the transformation matrix\n",
        "det_A = torch.det(A)\n",
        "\n",
        "# Compute the new area\n",
        "new_area = original_area * torch.abs(det_A)\n",
        "\n",
        "print(f\"Area after transformation: {new_area.item():.2f} m^2\")"
      ],
      "metadata": {
        "colab": {
          "base_uri": "https://localhost:8080/"
        },
        "id": "5CBZSdSZtIbi",
        "outputId": "482b190c-e555-4414-d9e1-7c10fd888ef2"
      },
      "execution_count": 4,
      "outputs": [
        {
          "output_type": "stream",
          "name": "stdout",
          "text": [
            "Area after transformation: 100.00 m^2\n"
          ]
        }
      ]
    },
    {
      "cell_type": "markdown",
      "source": [
        "4. Which of the following sets of vectors are linearly independent?\n",
        " * $\\left\\{\\begin{pmatrix}1\\\\0\\\\-1\\end{pmatrix}, \\begin{pmatrix}2\\\\1\\\\-1\\end{pmatrix}, \\begin{pmatrix}3\\\\1\\\\1\\end{pmatrix}\\right\\}$\n",
        " * $\\left\\{\\begin{pmatrix}3\\\\1\\\\1\\end{pmatrix}, \\begin{pmatrix}1\\\\1\\\\1\\end{pmatrix}, \\begin{pmatrix}0\\\\0\\\\0\\end{pmatrix}\\right\\}$\n",
        " * $\\left\\{\\begin{pmatrix}1\\\\1\\\\0\\end{pmatrix}, \\begin{pmatrix}0\\\\1\\\\-1\\end{pmatrix}, \\begin{pmatrix}1\\\\0\\\\1\\end{pmatrix}\\right\\}$"
      ],
      "metadata": {
        "id": "vFdDhhJItUlk"
      }
    },
    {
      "cell_type": "code",
      "source": [
        "# Define the sets of vectors\n",
        "set1 = torch.tensor([[1.0, 0.0, -1.0], [2.0, 1.0, -1.0], [3.0, 1.0, 1.0]]).T\n",
        "set2 = torch.tensor([[3.0, 1.0, 1.0], [1.0, 1.0, 1.0], [0.0, 0.0, 0.0]]).T\n",
        "set3 = torch.tensor([[1.0, 1.0, 0.0], [0.0, 1.0, -1.0], [1.0, 0.0, 1.0]]).T\n",
        "\n",
        "# Function to check linear independence\n",
        "def is_linearly_independent(matrix):\n",
        "    rank = torch.linalg.matrix_rank(matrix)\n",
        "    return rank == matrix.shape[1]\n",
        "\n",
        "# Check each set\n",
        "print(f\"Set 1 is linearly independent: {is_linearly_independent(set1)}\")\n",
        "print(f\"Set 2 is linearly independent: {is_linearly_independent(set2)}\")\n",
        "print(f\"Set 3 is linearly independent: {is_linearly_independent(set3)}\")"
      ],
      "metadata": {
        "colab": {
          "base_uri": "https://localhost:8080/"
        },
        "id": "4bqGefqMtWpd",
        "outputId": "4e7e61d4-4a9a-4960-9736-b22c3ff2b6b5"
      },
      "execution_count": 5,
      "outputs": [
        {
          "output_type": "stream",
          "name": "stdout",
          "text": [
            "Set 1 is linearly independent: True\n",
            "Set 2 is linearly independent: False\n",
            "Set 3 is linearly independent: False\n"
          ]
        }
      ]
    },
    {
      "cell_type": "markdown",
      "source": [
        "5. Suppose that you have a matrix written as $A = \\begin{bmatrix}c\\\\d\\end{bmatrix}\\cdot\\begin{bmatrix}a & b\\end{bmatrix}$ for some choice of values $a, b, c$, and $d$.  True or false: the determinant of such a matrix is always $0$?"
      ],
      "metadata": {
        "id": "gaNesUAVtlMG"
      }
    },
    {
      "cell_type": "code",
      "source": [
        "import torch\n",
        "\n",
        "# Define vectors for outer product\n",
        "c, d = 24.0, 128.0\n",
        "a, b = 32.0, 1000.0\n",
        "v1 = torch.tensor([c, d], dtype=torch.float64)\n",
        "v2 = torch.tensor([a, b], dtype=torch.float64)\n",
        "\n",
        "# Verify dtype\n",
        "# print(f\"v1 dtype: {v1.dtype}, v2 dtype: {v2.dtype}\")\n",
        "\n",
        "# Compute matrix A as outer product\n",
        "A = torch.outer(v1, v2)\n",
        "\n",
        "# Compute determinant\n",
        "det_A = torch.det(A)\n",
        "\n",
        "# Check if determinant is zero (within numerical precision)\n",
        "is_zero = torch.isclose(det_A, torch.tensor(0.0, dtype=torch.float64), atol=1e-8)\n",
        "\n",
        "print(f\"Determinant of A: {0.0 if is_zero else det_A.item():.2e}\")\n",
        "print(f\"Determinant is always zero: {is_zero}\")"
      ],
      "metadata": {
        "colab": {
          "base_uri": "https://localhost:8080/"
        },
        "id": "gUJy4FsdtkGu",
        "outputId": "1844850a-0005-4561-b3c0-0c87cafd9363"
      },
      "execution_count": 25,
      "outputs": [
        {
          "output_type": "stream",
          "name": "stdout",
          "text": [
            "Determinant of A: 0.00e+00\n",
            "Determinant is always zero: True\n"
          ]
        }
      ]
    },
    {
      "cell_type": "markdown",
      "source": [
        "6. The vectors $e_1 = \\begin{bmatrix}1\\\\0\\end{bmatrix}$ and $e_2 = \\begin{bmatrix}0\\\\1\\end{bmatrix}$ are orthogonal.  What is the condition on a matrix $A$ so that $Ae_1$ and $Ae_2$ are orthogonal?"
      ],
      "metadata": {
        "id": "2jPOAmmozCK7"
      }
    },
    {
      "cell_type": "code",
      "source": [
        "# Define standard basis vectors with double precision\n",
        "e1 = torch.tensor([1.0, 0.0], dtype=torch.float64)\n",
        "e2 = torch.tensor([0.0, 1.0], dtype=torch.float64)\n",
        "\n",
        "# Define a general 2x2 matrix A with double precision\n",
        "A = torch.tensor([[1.0, 2.0], [3.0, 4.0]], dtype=torch.float64)\n",
        "\n",
        "# Compute Ae1 and Ae2\n",
        "Ae1 = A @ e1  # First column of A\n",
        "Ae2 = A @ e2  # Second column of A\n",
        "\n",
        "# Check orthogonality condition: dot product of Ae1 and Ae2 should be zero\n",
        "dot_product = torch.dot(Ae1, Ae2)\n",
        "\n",
        "# Check if dot product is zero (within numerical precision)\n",
        "is_orthogonal = torch.isclose(dot_product, torch.tensor(0.0, dtype=torch.float64), atol=1e-8)\n",
        "\n",
        "print(f\"Dot product of Ae1 and Ae2: {dot_product.item():.2e}\")\n",
        "print(f\"Ae1 and Ae2 are orthogonal: {is_orthogonal}\")\n",
        "print(\"Condition: For a 2x2 matrix A = [[a, b], [c, d]], a*c + b*d = 0\")"
      ],
      "metadata": {
        "colab": {
          "base_uri": "https://localhost:8080/"
        },
        "id": "b14dhkN9ziWO",
        "outputId": "bcf2f832-413f-4eb3-8e70-e46027e6b4c5"
      },
      "execution_count": 27,
      "outputs": [
        {
          "output_type": "stream",
          "name": "stdout",
          "text": [
            "Dot product of Ae1 and Ae2: 1.40e+01\n",
            "Ae1 and Ae2 are orthogonal: False\n",
            "Condition: For a 2x2 matrix A = [[a, b], [c, d]], a*c + b*d = 0\n"
          ]
        }
      ]
    },
    {
      "cell_type": "markdown",
      "source": [
        "7. How can you write $\\textrm{tr}(\\mathbf{A}^4)$ in Einstein notation for an arbitrary matrix $A$?\n"
      ],
      "metadata": {
        "id": "tsFmLVRu3Nd4"
      }
    },
    {
      "cell_type": "code",
      "source": [
        "# Define an arbitrary 2x2 matrix A (example)\n",
        "A = torch.tensor([[1.0, 2.0], [3.0, 4.0]], dtype=torch.float64)\n",
        "\n",
        "# Compute A^4\n",
        "A2 = torch.matmul(A, A)\n",
        "A4 = torch.matmul(A2, A2)\n",
        "\n",
        "# Compute trace of A^4\n",
        "trace_A4 = torch.trace(A4)\n",
        "\n",
        "# Einstein notation equivalent (for reference)\n",
        "# tr(A^4) = A_{ik} A_{kj} A_{jl} A_{li}\n",
        "print(f\"Trace of A^4: {trace_A4.item():.2f}\")\n",
        "print(\"Einstein notation: tr(A^4) = A_{ik} A_{kj} A_{jl} A_{li}\")"
      ],
      "metadata": {
        "colab": {
          "base_uri": "https://localhost:8080/"
        },
        "id": "GcXG_HpR3N2n",
        "outputId": "7aee4c52-7ac2-40f7-a04d-5a9bf8d31dbd"
      },
      "execution_count": 28,
      "outputs": [
        {
          "output_type": "stream",
          "name": "stdout",
          "text": [
            "Trace of A^4: 833.00\n",
            "Einstein notation: tr(A^4) = A_{ik} A_{kj} A_{jl} A_{li}\n"
          ]
        }
      ]
    }
  ]
}